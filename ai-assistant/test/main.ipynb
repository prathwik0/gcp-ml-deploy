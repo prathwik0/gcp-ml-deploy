{
 "cells": [
  {
   "cell_type": "code",
   "execution_count": null,
   "metadata": {},
   "outputs": [],
   "source": []
  },
  {
   "cell_type": "code",
   "execution_count": 1,
   "metadata": {},
   "outputs": [
    {
     "name": "stdout",
     "output_type": "stream",
     "text": [
      "nandanpi\n"
     ]
    }
   ],
   "source": [
    "import os\n",
    "from dotenv import load_dotenv\n",
    "\n",
    "os.environ[\"TF_CPP_MIN_LOG_LEVEL\"] = \"2\"\n",
    "\n",
    "import io\n",
    "import numpy as np\n",
    "from flask import Flask, request, jsonify\n",
    "\n",
    "load_dotenv()\n",
    "test = os.getenv(\"TEST\")\n",
    "print(test)"
   ]
  },
  {
   "cell_type": "code",
   "execution_count": 2,
   "metadata": {},
   "outputs": [
    {
     "name": "stderr",
     "output_type": "stream",
     "text": [
      "/opt/homebrew/anaconda3/lib/python3.10/site-packages/tqdm/auto.py:21: TqdmWarning: IProgress not found. Please update jupyter and ipywidgets. See https://ipywidgets.readthedocs.io/en/stable/user_install.html\n",
      "  from .autonotebook import tqdm as notebook_tqdm\n"
     ]
    }
   ],
   "source": [
    "import pathlib\n",
    "import textwrap\n",
    "\n",
    "import google.generativeai as genai\n",
    "\n",
    "from IPython.display import display\n",
    "from IPython.display import Markdown\n",
    "\n",
    "\n",
    "def to_markdown(text):\n",
    "    text = text.replace(\"•\", \"  *\")\n",
    "    return Markdown(textwrap.indent(text, \"> \", predicate=lambda _: True))"
   ]
  },
  {
   "cell_type": "code",
   "execution_count": 3,
   "metadata": {},
   "outputs": [],
   "source": [
    "GOOGLE_API_KEY = os.getenv(\"GOOGLE_API_KEY\")\n",
    "genai.configure(api_key=GOOGLE_API_KEY)"
   ]
  },
  {
   "cell_type": "code",
   "execution_count": 4,
   "metadata": {},
   "outputs": [],
   "source": [
    "model = genai.GenerativeModel(\"gemini-pro\")"
   ]
  },
  {
   "cell_type": "code",
   "execution_count": 5,
   "metadata": {},
   "outputs": [
    {
     "name": "stdout",
     "output_type": "stream",
     "text": [
      "CPU times: user 14.3 ms, sys: 12.3 ms, total: 26.6 ms\n",
      "Wall time: 6.1 s\n"
     ]
    }
   ],
   "source": [
    "%%time\n",
    "response = model.generate_content(\"I have severe cold! Tell me some home remedies to resolve cold!\")\n"
   ]
  },
  {
   "cell_type": "code",
   "execution_count": 6,
   "metadata": {},
   "outputs": [
    {
     "data": {
      "text/plain": [
       "'1. **Hot Fluid Intake**: Drink plenty of hot fluids such as hot tea, herbal teas like chamomile or peppermint, and hot water with honey to soothe sore throat and clear nasal congestion.\\n\\n2. **Honey**: Take a teaspoon of honey mixed with warm water or tea before bed to help reduce coughing and soothe sore throat.\\n\\n3. **Ginger**: Consume ginger tea or chew on fresh ginger slices to relieve nausea and help clear congestion.\\n\\n4. **Garlic**: Crush a clove of garlic and mix it with a teaspoon of coconut oil. Drop 2-3 drops of this mixture into each ear before bed to help fight infection and relieve ear pain.\\n\\n5. **Steam**: Inhale steam from a hot shower or humidifier several times a day to help loosen mucus and ease congestion.\\n\\n6. **Salt Water Gargle**: Gargle with warm salt water several times a day to help soothe sore throat and reduce inflammation.\\n\\n7. **Elderberries**: Consume elderberry tea or supplements to help boost immune system and reduce cold symptoms.\\n\\n8. **Turmeric**: Drink turmeric tea or take turmeric supplements to help reduce inflammation and boost immunity.\\n\\n9. **Chicken Soup**: Eat homemade chicken soup as it contains nutrients that can help support the immune system and relieve cold symptoms.\\n\\n10. **Rest**: Get plenty of rest to give your body time to heal and fight off the cold virus.'"
      ]
     },
     "execution_count": 6,
     "metadata": {},
     "output_type": "execute_result"
    }
   ],
   "source": [
    "response.text"
   ]
  },
  {
   "cell_type": "code",
   "execution_count": null,
   "metadata": {},
   "outputs": [],
   "source": []
  }
 ],
 "metadata": {
  "kernelspec": {
   "display_name": "Python 3",
   "language": "python",
   "name": "python3"
  },
  "language_info": {
   "codemirror_mode": {
    "name": "ipython",
    "version": 3
   },
   "file_extension": ".py",
   "mimetype": "text/x-python",
   "name": "python",
   "nbconvert_exporter": "python",
   "pygments_lexer": "ipython3",
   "version": "3.10.9"
  }
 },
 "nbformat": 4,
 "nbformat_minor": 2
}
