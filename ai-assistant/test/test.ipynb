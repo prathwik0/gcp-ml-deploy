{
 "cells": [
  {
   "cell_type": "code",
   "execution_count": 12,
   "metadata": {},
   "outputs": [
    {
     "name": "stdout",
     "output_type": "stream",
     "text": [
      "Response: 1. Appendicitis: This is a common cause of right-sided abdominal pain. It occurs when the appendix, a small finger-shaped organ attached to the large intestine, becomes inflamed. Symptoms include sudden, sharp pain in the right lower abdomen, nausea, vomiting, and fever.\n",
      "\n",
      "2. Kidney Stones: Kidney stones are hard mineral and salt deposits that can form in the kidneys. When they move through the urinary tract, they can cause severe pain in the side, back, or lower abdomen. Other symptoms may include burning or painful urination, cloudy or bloody urine, and frequent urination.\n",
      "\n",
      "3. Diverticulitis: Diverticulitis is a condition in which pouches (diverticula) that develop in the walls of the colon become inflamed or infected. This can lead to pain in the lower right abdomen, along with other symptoms such as diarrhea, constipation, fever, and nausea.\n",
      "\n",
      "4. Pelvic Inflammatory Disease (PID): PID is an infection of the female reproductive organs, including the uterus, fallopian tubes, and ovaries. It can cause pain in the lower abdomen, including the right side, as well as fever, vaginal discharge, and painful intercourse.\n",
      "\n",
      "5. Ectopic Pregnancy: An ectopic pregnancy occurs when a fertilized egg implants outside of the uterus, often in the fallopian tube. This can cause severe pain in the lower abdomen, along with vaginal bleeding and irregular periods.\n",
      "\n",
      "6. Ovarian Cyst: An ovarian cyst is a fluid-filled sac that develops on the ovary. While most ovarian cysts are harmless, some can cause pain in the lower abdomen, especially if they become twisted or rupture.\n",
      "\n",
      "7. Irritable Bowel Syndrome (IBS): IBS is a functional bowel disorder that can cause a variety of digestive symptoms, including abdominal pain, bloating, constipation, and diarrhea. The pain associated with IBS can sometimes be localized to the right side of the abdomen.\n",
      "\n",
      "8. Crohn's Disease: Crohn's disease is a chronic inflammatory bowel disease that can affect any part of the digestive tract, including the small intestine and colon. Symptoms can include abdominal pain, diarrhea, weight loss, and fever.\n",
      "\n",
      "9. Ulcerative Colitis: Ulcerative colitis is another chronic inflammatory bowel disease that affects the large intestine (colon). Symptoms can include abdominal pain, diarrhea, blood in the stool, and weight loss.\n",
      "\n",
      "10. Hernia: A hernia is a condition in which an organ or tissue pushes through a weak spot in the muscle or surrounding tissue. Hernias can occur in various locations, including the groin, abdomen, and thighs. They can cause pain, discomfort, and a bulge in the affected area.\n"
     ]
    }
   ],
   "source": [
    "import requests\n",
    "\n",
    "# Assuming your API endpoint is hosted locally at http://localhost:5000/\n",
    "url = \"https://alchbot-fmaprfvioa-de.a.run.app\"\n",
    "\n",
    "# Sample JSON data for the POST request\n",
    "data = {\n",
    "    \"message\": \"my abdomen is paining in the right side? what could be the cause of this?\"\n",
    "}\n",
    "\n",
    "try:\n",
    "    # Making the POST request\n",
    "    response = requests.post(url, json=data)\n",
    "\n",
    "    # Checking the response\n",
    "    if response.status_code == 200:\n",
    "        print(\"Response:\", response.text)\n",
    "    else:\n",
    "        print(\"Error:\", response.text)\n",
    "except requests.RequestException as e:\n",
    "    print(\"Request Error:\", e)"
   ]
  },
  {
   "cell_type": "code",
   "execution_count": null,
   "metadata": {},
   "outputs": [],
   "source": []
  }
 ],
 "metadata": {
  "kernelspec": {
   "display_name": "python3-10",
   "language": "python",
   "name": "python3"
  },
  "language_info": {
   "codemirror_mode": {
    "name": "ipython",
    "version": 3
   },
   "file_extension": ".py",
   "mimetype": "text/x-python",
   "name": "python",
   "nbconvert_exporter": "python",
   "pygments_lexer": "ipython3",
   "version": "3.10.13"
  }
 },
 "nbformat": 4,
 "nbformat_minor": 2
}
